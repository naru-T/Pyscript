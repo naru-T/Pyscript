{
  "nbformat": 4,
  "nbformat_minor": 0,
  "metadata": {
    "colab": {
      "name": "pyshp_trial.ipynb",
      "version": "0.3.2",
      "views": {},
      "default_view": {},
      "provenance": [],
      "collapsed_sections": [],
      "toc_visible": true
    }
  },
  "cells": [
    {
      "metadata": {
        "id": "YKrkZNRwy9V1",
        "colab_type": "text"
      },
      "source": [
        "# Learning Shape file handling "
      ],
      "cell_type": "markdown"
    },
    {
      "metadata": {
        "id": "Xl5ENBojy8lP",
        "colab_type": "text"
      },
      "source": [
        "tutorial:  https://chrishavlin.wordpress.com/2016/11/16/shapefiles-tutorial/  \n",
        "\n",
        "pyshp documentation:  https://pypi.python.org/pypi/pyshp  \n",
        "mapping:  https://gis.stackexchange.com/questions/93136/how-to-plot-geo-data-using-matplotlib-python/93201#93201\n"
      ],
      "cell_type": "markdown"
    },
    {
      "metadata": {
        "id": "5EUmGkI0NT9c",
        "colab_type": "text"
      },
      "source": [
        "# Prerequisites"
      ],
      "cell_type": "markdown"
    },
    {
      "metadata": {
        "id": "dHvXBi8RNfDI",
        "colab_type": "text"
      },
      "source": [
        "##install packages"
      ],
      "cell_type": "markdown"
    },
    {
      "metadata": {
        "id": "cvhKjdXS2fUJ",
        "colab_type": "code",
        "colab": {
          "autoexec": {
            "startup": false,
            "wait_interval": 0
          },
          "output_extras": [
            {
              "item_id": 1
            }
          ],
          "base_uri": "https://localhost:8080/",
          "height": 34
        },
        "outputId": "012c29a1-6ca9-4e90-b97d-343cba4c1a58",
        "executionInfo": {
          "status": "ok",
          "timestamp": 1512100409601,
          "user_tz": -540,
          "elapsed": 1716,
          "user": {
            "displayName": "Tsutsumida Naru",
            "photoUrl": "https://lh3.googleusercontent.com/a/default-user=s128",
            "userId": "116183219300541669782"
          }
        }
      },
      "source": [
        "!pip install pyshp"
      ],
      "cell_type": "code",
      "execution_count": 214,
      "outputs": [
        {
          "output_type": "stream",
          "text": [
            "Requirement already satisfied: pyshp in /usr/local/lib/python2.7/dist-packages\r\n"
          ],
          "name": "stdout"
        }
      ]
    },
    {
      "metadata": {
        "id": "EA-taTFFE1Lf",
        "colab_type": "code",
        "colab": {
          "autoexec": {
            "startup": false,
            "wait_interval": 0
          },
          "output_extras": [
            {
              "item_id": 2
            }
          ],
          "base_uri": "https://localhost:8080/",
          "height": 238
        },
        "outputId": "0c347c73-8de4-4c2c-c207-f793aeb25648",
        "executionInfo": {
          "status": "ok",
          "timestamp": 1512098199195,
          "user_tz": -540,
          "elapsed": 1982,
          "user": {
            "displayName": "Tsutsumida Naru",
            "photoUrl": "https://lh3.googleusercontent.com/a/default-user=s128",
            "userId": "116183219300541669782"
          }
        }
      },
      "source": [
        "!pip install descartes"
      ],
      "cell_type": "code",
      "execution_count": 174,
      "outputs": [
        {
          "output_type": "stream",
          "text": [
            "Collecting descartes\n",
            "  Downloading descartes-1.1.0-py2-none-any.whl\n",
            "Requirement already satisfied: matplotlib in /usr/local/lib/python2.7/dist-packages (from descartes)\n",
            "Requirement already satisfied: cycler>=0.10 in /usr/local/lib/python2.7/dist-packages (from matplotlib->descartes)\n",
            "Requirement already satisfied: numpy>=1.7.1 in /usr/local/lib/python2.7/dist-packages (from matplotlib->descartes)\n",
            "Requirement already satisfied: python-dateutil>=2.0 in /usr/local/lib/python2.7/dist-packages (from matplotlib->descartes)\n",
            "Requirement already satisfied: backports.functools-lru-cache in /usr/local/lib/python2.7/dist-packages (from matplotlib->descartes)\n",
            "Requirement already satisfied: subprocess32 in /usr/local/lib/python2.7/dist-packages (from matplotlib->descartes)\n",
            "Requirement already satisfied: pytz in /usr/local/lib/python2.7/dist-packages (from matplotlib->descartes)\n",
            "Requirement already satisfied: six>=1.10 in /usr/local/lib/python2.7/dist-packages (from matplotlib->descartes)\n",
            "Requirement already satisfied: pyparsing!=2.0.4,!=2.1.2,!=2.1.6,>=2.0.1 in /usr/local/lib/python2.7/dist-packages (from matplotlib->descartes)\n",
            "Installing collected packages: descartes\n",
            "Successfully installed descartes-1.1.0\n"
          ],
          "name": "stdout"
        }
      ]
    },
    {
      "metadata": {
        "id": "0nS_YHlk_clD",
        "colab_type": "code",
        "colab": {
          "autoexec": {
            "startup": false,
            "wait_interval": 0
          },
          "output_extras": [
            {
              "item_id": 4
            }
          ],
          "base_uri": "https://localhost:8080/",
          "height": 323
        },
        "outputId": "6f3aa92c-7bb1-4492-8161-ce283236c107",
        "executionInfo": {
          "status": "ok",
          "timestamp": 1512092680182,
          "user_tz": -540,
          "elapsed": 7091,
          "user": {
            "displayName": "Tsutsumida Naru",
            "photoUrl": "https://lh3.googleusercontent.com/a/default-user=s128",
            "userId": "116183219300541669782"
          }
        }
      },
      "source": [
        "#install 7zip reader\n",
        "# https://pypi.python.org/pypi/libarchive\n",
        "!apt-get -qq install -y libarchive-dev && pip install -q -U libarchive"
      ],
      "cell_type": "code",
      "execution_count": 2,
      "outputs": [
        {
          "output_type": "stream",
          "text": [
            "debconf: unable to initialize frontend: Dialog\r\n",
            "debconf: (No usable dialog-like program is installed, so the dialog based frontend cannot be used. at /usr/share/perl5/Debconf/FrontEnd/Dialog.pm line 76, <> line 3.)\r\n",
            "debconf: falling back to frontend: Readline\n",
            "Selecting previously unselected package liblzo2-2:amd64.\n",
            "(Reading database ... 16279 files and directories currently installed.)\n",
            "Preparing to unpack .../liblzo2-2_2.08-1.2_amd64.deb ...\n",
            "Unpacking liblzo2-2:amd64 (2.08-1.2) ...\n",
            "Selecting previously unselected package libarchive13:amd64.\n",
            "Preparing to unpack .../libarchive13_3.2.2-3.1_amd64.deb ...\n",
            "Unpacking libarchive13:amd64 (3.2.2-3.1) ...\n",
            "Selecting previously unselected package libarchive-dev:amd64.\n",
            "Preparing to unpack .../libarchive-dev_3.2.2-3.1_amd64.deb ...\n",
            "Unpacking libarchive-dev:amd64 (3.2.2-3.1) ...\n",
            "Processing triggers for libc-bin (2.26-0ubuntu2) ...\n",
            "Setting up liblzo2-2:amd64 (2.08-1.2) ...\n",
            "Setting up libarchive13:amd64 (3.2.2-3.1) ...\n",
            "Setting up libarchive-dev:amd64 (3.2.2-3.1) ...\n",
            "Processing triggers for libc-bin (2.26-0ubuntu2) ...\n"
          ],
          "name": "stdout"
        }
      ]
    },
    {
      "metadata": {
        "id": "a50ROyNtyFH3",
        "colab_type": "text"
      },
      "source": [
        "##Download shapefile from dropbox link"
      ],
      "cell_type": "markdown"
    },
    {
      "metadata": {
        "id": "8EHB0sNtv0Lv",
        "colab_type": "code",
        "colab": {
          "autoexec": {
            "startup": false,
            "wait_interval": 0
          },
          "output_extras": [
            {
              "item_id": 5
            }
          ],
          "base_uri": "https://localhost:8080/",
          "height": 85
        },
        "outputId": "3e3c37dd-3a2f-4d06-e76b-3c63a3fad4a6",
        "executionInfo": {
          "status": "ok",
          "timestamp": 1512093054649,
          "user_tz": -540,
          "elapsed": 4181,
          "user": {
            "displayName": "Tsutsumida Naru",
            "photoUrl": "https://lh3.googleusercontent.com/a/default-user=s128",
            "userId": "116183219300541669782"
          }
        }
      },
      "source": [
        "!curl -L -o countries.zip https://www.dropbox.com/s/30csqx4gg90xg7d/countries.zip?dl=0"
      ],
      "cell_type": "code",
      "execution_count": 21,
      "outputs": [
        {
          "output_type": "stream",
          "text": [
            "  % Total    % Received % Xferd  Average Speed   Time    Time     Time  Current\r\n",
            "                                 Dload  Upload   Total   Spent    Left  Speed\n",
            "  0     0    0     0    0     0      0      0 --:--:--  0:00:01 --:--:--     0\n",
            "100 22.2M  100 22.2M    0     0  7603k      0  0:00:03  0:00:03 --:--:-- 37.1M\n"
          ],
          "name": "stdout"
        }
      ]
    },
    {
      "metadata": {
        "id": "UgI1jqBnwC67",
        "colab_type": "code",
        "colab": {
          "autoexec": {
            "startup": false,
            "wait_interval": 0
          },
          "output_extras": [
            {
              "item_id": 2
            }
          ],
          "base_uri": "https://localhost:8080/",
          "height": 51
        },
        "outputId": "eef5b359-b2f3-488a-a6a6-75d2d9839c9d",
        "executionInfo": {
          "status": "ok",
          "timestamp": 1512100516773,
          "user_tz": -540,
          "elapsed": 3428,
          "user": {
            "displayName": "Tsutsumida Naru",
            "photoUrl": "https://lh3.googleusercontent.com/a/default-user=s128",
            "userId": "116183219300541669782"
          }
        }
      },
      "source": [
        "#unzip\n",
        "!unzip countries.zip"
      ],
      "cell_type": "code",
      "execution_count": 216,
      "outputs": [
        {
          "output_type": "stream",
          "text": [
            "Archive:  countries.zip\n",
            "replace countries.shx? [y]es, [n]o, [A]ll, [N]one, [r]ename: ^C\n"
          ],
          "name": "stdout"
        }
      ]
    },
    {
      "metadata": {
        "id": "pcoTLM2PNpi4",
        "colab_type": "text"
      },
      "source": [
        "## Import packages"
      ],
      "cell_type": "markdown"
    },
    {
      "metadata": {
        "id": "rs9M_D8l24Fd",
        "colab_type": "code",
        "colab": {
          "autoexec": {
            "startup": false,
            "wait_interval": 0
          }
        }
      },
      "source": [
        "import shapefile\n",
        "import matplotlib.pyplot as plt\n",
        "import numpy as np\n",
        "import pandas as pd"
      ],
      "cell_type": "code",
      "execution_count": 0,
      "outputs": []
    },
    {
      "metadata": {
        "id": "hZtREVE9Nwmg",
        "colab_type": "text"
      },
      "source": [
        "#Import shapefile"
      ],
      "cell_type": "markdown"
    },
    {
      "metadata": {
        "id": "8DIzYj5d2mhm",
        "colab_type": "code",
        "colab": {
          "autoexec": {
            "startup": false,
            "wait_interval": 0
          }
        }
      },
      "source": [
        "##\n",
        "#dat_dir = \"\"\n",
        "#shp_file_base = \"countires.shp\"\n",
        "#sf = shapefile.Reader(dat_dir+shp_file_base)\n",
        "\n",
        "sf = shapefile.Reader(\"countries.shp\")"
      ],
      "cell_type": "code",
      "execution_count": 0,
      "outputs": []
    },
    {
      "metadata": {
        "id": "gwO5t5Iq9gaI",
        "colab_type": "code",
        "colab": {
          "autoexec": {
            "startup": false,
            "wait_interval": 0
          },
          "output_extras": [
            {
              "item_id": 2
            }
          ],
          "base_uri": "https://localhost:8080/",
          "height": 34
        },
        "outputId": "fb4a70b6-fab2-49b1-f5c8-70c61847e762",
        "executionInfo": {
          "status": "ok",
          "timestamp": 1512093317668,
          "user_tz": -540,
          "elapsed": 1303,
          "user": {
            "displayName": "Tsutsumida Naru",
            "photoUrl": "https://lh3.googleusercontent.com/a/default-user=s128",
            "userId": "116183219300541669782"
          }
        }
      },
      "source": [
        "##check the number of data entry\n",
        "print 'number of shapes imported:',len(sf.shapes())"
      ],
      "cell_type": "code",
      "execution_count": 31,
      "outputs": [
        {
          "output_type": "stream",
          "text": [
            "number of shapes imported: 264\n"
          ],
          "name": "stdout"
        }
      ]
    },
    {
      "metadata": {
        "id": "6yA01-XQ_BUN",
        "colab_type": "code",
        "colab": {
          "autoexec": {
            "startup": false,
            "wait_interval": 0
          },
          "output_extras": [
            {
              "item_id": 1
            }
          ],
          "base_uri": "https://localhost:8080/",
          "height": 340
        },
        "outputId": "d1c60eee-a97f-4209-c0d8-8d41b25b9cf6",
        "executionInfo": {
          "status": "ok",
          "timestamp": 1512098922087,
          "user_tz": -540,
          "elapsed": 954,
          "user": {
            "displayName": "Tsutsumida Naru",
            "photoUrl": "https://lh3.googleusercontent.com/a/default-user=s128",
            "userId": "116183219300541669782"
          }
        }
      },
      "source": [
        "##ckeck field names\n",
        "sf.fields\n"
      ],
      "cell_type": "code",
      "execution_count": 188,
      "outputs": [
        {
          "output_type": "execute_result",
          "data": {
            "text/plain": [
              "[('DeletionFlag', 'C', 1, 0),\n",
              " ['OBJECTID', 'N', 9, 0],\n",
              " ['NAME', 'C', 80, 0],\n",
              " ['ISO3', 'C', 80, 0],\n",
              " ['ISO2', 'C', 4, 0],\n",
              " ['FIPS', 'C', 6, 0],\n",
              " ['COUNTRY', 'C', 75, 0],\n",
              " ['ENGLISH', 'C', 50, 0],\n",
              " ['FRENCH', 'C', 50, 0],\n",
              " ['SPANISH', 'C', 50, 0],\n",
              " ['LOCAL', 'C', 54, 0],\n",
              " ['FAO', 'C', 55, 0],\n",
              " ['WAS_ISO', 'C', 4, 0],\n",
              " ['SOVEREIGN', 'C', 40, 0],\n",
              " ['CONTINENT', 'C', 55, 0],\n",
              " ['UNREG1', 'C', 75, 0],\n",
              " ['UNREG2', 'C', 75, 0],\n",
              " ['EU', 'N', 4, 0],\n",
              " ['SQKM', 'F', 19, 11]]"
            ]
          },
          "metadata": {
            "tags": []
          },
          "execution_count": 188
        }
      ]
    },
    {
      "metadata": {
        "id": "AQG6oxoE6ipG",
        "colab_type": "code",
        "colab": {
          "autoexec": {
            "startup": false,
            "wait_interval": 0
          }
        }
      },
      "source": [
        "##attribution table\n",
        "records = sf.records()"
      ],
      "cell_type": "code",
      "execution_count": 0,
      "outputs": []
    },
    {
      "metadata": {
        "id": "1T3asFM7BePX",
        "colab_type": "code",
        "colab": {
          "autoexec": {
            "startup": false,
            "wait_interval": 0
          },
          "output_extras": [
            {
              "item_id": 1
            }
          ],
          "base_uri": "https://localhost:8080/",
          "height": 34
        },
        "outputId": "e5e827ed-d9aa-43ae-b9c8-b80841a26abb",
        "executionInfo": {
          "status": "ok",
          "timestamp": 1512098927127,
          "user_tz": -540,
          "elapsed": 584,
          "user": {
            "displayName": "Tsutsumida Naru",
            "photoUrl": "https://lh3.googleusercontent.com/a/default-user=s128",
            "userId": "116183219300541669782"
          }
        }
      },
      "source": [
        "#boundary\n",
        "sf.bbox"
      ],
      "cell_type": "code",
      "execution_count": 189,
      "outputs": [
        {
          "output_type": "execute_result",
          "data": {
            "text/plain": [
              "[-179.99999999999997, -59.48429488968026, 180.0, 83.6274185352932]"
            ]
          },
          "metadata": {
            "tags": []
          },
          "execution_count": 189
        }
      ]
    },
    {
      "metadata": {
        "id": "XVi8SGyp9sG6",
        "colab_type": "code",
        "colab": {
          "autoexec": {
            "startup": false,
            "wait_interval": 0
          },
          "output_extras": [
            {
              "item_id": 1
            }
          ],
          "base_uri": "https://localhost:8080/",
          "height": 4488
        },
        "outputId": "881236a7-4bd2-4185-a13d-18ac524c8ffc",
        "executionInfo": {
          "status": "ok",
          "timestamp": 1512096348743,
          "user_tz": -540,
          "elapsed": 850,
          "user": {
            "displayName": "Tsutsumida Naru",
            "photoUrl": "https://lh3.googleusercontent.com/a/default-user=s128",
            "userId": "116183219300541669782"
          }
        }
      },
      "source": [
        "##pick up only data index and country name\n",
        "for index, item in enumerate( record[1:]):\n",
        "        print index, item[6]"
      ],
      "cell_type": "code",
      "execution_count": 125,
      "outputs": [
        {
          "output_type": "stream",
          "text": [
            "0 Afghanistan\n",
            "1 Albania\n",
            "2 Algeria\n",
            "3 American Samoa\n",
            "4 Andorra\n",
            "5 Angola\n",
            "6 Anguilla\n",
            "7 Antigua and Barbuda\n",
            "8 Argentina\n",
            "9 Armenia\n",
            "10 Aruba\n",
            "11 Australia\n",
            "12 Australia\n",
            "13 Austria\n",
            "14 Azerbaijan\n",
            "15 Bahamas\n",
            "16 Bahrain\n",
            "17 Brunei\n",
            "18 United States Minor Outlying Islands\n",
            "19 Bangladesh\n",
            "20 Barbados\n",
            "21 Belarus\n",
            "22 Belgium\n",
            "23 Belize\n",
            "24 Benin\n",
            "25 Bermuda\n",
            "26 Bhutan\n",
            "27 Bolivia\n",
            "28 Bonaire, Saint Eustatius and Saba\n",
            "29 Bosnia and Herzegovina\n",
            "30 Botswana\n",
            "31 Bouvet Island\n",
            "32 Brazil\n",
            "33 British Indian Ocean Territory\n",
            "34 British Virgin Islands\n",
            "35 Bulgaria\n",
            "36 Burkina Faso\n",
            "37 Myanmar\n",
            "38 Burundi\n",
            "39 Cambodia\n",
            "40 Cameroon\n",
            "41 Canada\n",
            "42 Cape Verde\n",
            "43 Cayman Islands\n",
            "44 Central African Republic\n",
            "45 Chad\n",
            "46 Chile\n",
            "47 China\n",
            "48 Christmas Island\n",
            "49 Clipperton Island\n",
            "50 Cocos Islands\n",
            "51 Colombia\n",
            "52 Comoros\n",
            "53 Republic of Congo\n",
            "54 Democratic Republic of the Congo\n",
            "55 Cook Islands\n",
            "56 Australia\n",
            "57 Costa Rica\n",
            "58 Croatia\n",
            "59 Cuba\n",
            "60 Curacao\n",
            "61 Cyprus\n",
            "62 Czech Republic\n",
            "63 C�te d'Ivoire\n",
            "64 Denmark\n",
            "65 Djibouti\n",
            "66 Dominica\n",
            "67 Dominican Republic\n",
            "68 Ecuador\n",
            "69 Egypt\n",
            "70 El Salvador\n",
            "71 Equatorial Guinea\n",
            "72 Eritrea\n",
            "73 Estonia\n",
            "74 Ethiopia\n",
            "75 French Southern Territories\n",
            "76 Falkland Islands\n",
            "77 Faroe Islands\n",
            "78 Micronesia\n",
            "79 Fiji\n",
            "80 Finland\n",
            "81 France\n",
            "82 French Guiana\n",
            "83 French Polynesia\n",
            "84 French Southern Territories\n",
            "85 Gabon\n",
            "86 Gambia\n",
            "87 Palestina\n",
            "88 Georgia\n",
            "89 Germany\n",
            "90 Ghana\n",
            "91 Gibraltar\n",
            "92 French Southern Territories\n",
            "93 Greece\n",
            "94 Greenland\n",
            "95 Grenada\n",
            "96 Guadeloupe\n",
            "97 Guam\n",
            "98 Guatemala\n",
            "99 Guernsey\n",
            "100 Guinea\n",
            "101 Guinea-Bissau\n",
            "102 Guyana\n",
            "103 Haiti\n",
            "104 Heard Island and McDonald Islands\n",
            "105 Honduras\n",
            "106 Hong Kong\n",
            "107 United States Minor Outlying Islands\n",
            "108 Hungary\n",
            "109 Iceland\n",
            "110 India\n",
            "111 Indonesia\n",
            "112 Iran\n",
            "113 Iraq\n",
            "114 Ireland\n",
            "115 Isle of Man\n",
            "116 Israel\n",
            "117 Italy\n",
            "118 Jamaica\n",
            "119 Japan\n",
            "120 United States Minor Outlying Islands\n",
            "121 Jersey\n",
            "122 United States Minor Outlying Islands\n",
            "123 Jordan\n",
            "124 French Southern Territories\n",
            "125 Kazakhstan\n",
            "126 Kenya\n",
            "127 United States Minor Outlying Islands\n",
            "128 Kiribati\n",
            "129 Kuwait\n",
            "130 Kyrgyzstan\n",
            "131 Laos\n",
            "132 Latvia\n",
            "133 Lebanon\n",
            "134 Lesotho\n",
            "135 Liberia\n",
            "136 Libya\n",
            "137 Liechtenstein\n",
            "138 Lithuania\n",
            "139 Luxembourg\n",
            "140 Macao\n",
            "141 Macedonia\n",
            "142 Madagascar\n",
            "143 Malawi\n",
            "144 Malaysia\n",
            "145 Maldives\n",
            "146 Mali\n",
            "147 Malta\n",
            "148 Marshall Islands\n",
            "149 Martinique\n",
            "150 Mauritania\n",
            "151 Mauritius\n",
            "152 Mayotte\n",
            "153 Mexico\n",
            "154 United States Minor Outlying Islands\n",
            "155 Moldova\n",
            "156 Monaco\n",
            "157 Mongolia\n",
            "158 Montenegro\n",
            "159 Montserrat\n",
            "160 Morocco\n",
            "161 Mozambique\n",
            "162 Namibia\n",
            "163 Nauru\n",
            "164 United States Minor Outlying Islands\n",
            "165 Nepal\n",
            "166 Netherlands\n",
            "167 New Caledonia\n",
            "168 New Zealand\n",
            "169 Nicaragua\n",
            "170 Niger\n",
            "171 Nigeria\n",
            "172 Niue\n",
            "173 Norfolk Island\n",
            "174 North Korea\n",
            "175 Northern Mariana Islands\n",
            "176 Norway\n",
            "177 Oman\n",
            "178 Pakistan\n",
            "179 Palau\n",
            "180 Vanuatu\n",
            "181 United States Minor Outlying Islands\n",
            "182 Panama\n",
            "183 Papua New Guinea\n",
            "184 Paraguay\n",
            "185 Peru\n",
            "186 Philippines\n",
            "187 Pitcairn Islands\n",
            "188 Poland\n",
            "189 Portugal\n",
            "190 Puerto Rico\n",
            "191 Qatar\n",
            "192 Reunion\n",
            "193 Romania\n",
            "194 Russia\n",
            "195 Rwanda\n",
            "196 Saint-Barth�lemy\n",
            "197 Saint Helena\n",
            "198 Saint Kitts and Nevis\n",
            "199 Saint Lucia\n",
            "200 Saint Martin\n",
            "201 Saint Pierre and Miquelon\n",
            "202 Saint Vincent and the Grenadines\n",
            "203 Samoa\n",
            "204 San Marino\n",
            "205 Sao Tome and Principe\n",
            "206 Saudi Arabia\n",
            "207 Senegal\n",
            "208 Serbia\n",
            "209 Seychelles\n",
            "210 Sierra Leone\n",
            "211 Singapore\n",
            "212 Sint Maarten\n",
            "213 Slovakia\n",
            "214 Slovenia\n",
            "215 Solomon Islands\n",
            "216 Somalia\n",
            "217 South Africa\n",
            "218 South Georgia and the South Sandwich Islands\n",
            "219 South Korea\n",
            "220 Spain\n",
            "221 Spratly islands\n",
            "222 Sri Lanka\n",
            "223 Sudan\n",
            "224 Suriname\n",
            "225 Svalbard and Jan Mayen\n",
            "226 Swaziland\n",
            "227 Sweden\n",
            "228 Switzerland\n",
            "229 Syria\n",
            "230 Taiwan\n",
            "231 Tajikistan\n",
            "232 Tanzania\n",
            "233 Thailand\n",
            "234 East Timor\n",
            "235 Togo\n",
            "236 Tokelau\n",
            "237 Tonga\n",
            "238 Trinidad and Tobago\n",
            "239 French Southern Territories\n",
            "240 Tunisia\n",
            "241 Turkey\n",
            "242 Turkmenistan\n",
            "243 Turks and Caicos Islands\n",
            "244 Tuvalu\n",
            "245 Uganda\n",
            "246 Ukraine\n",
            "247 United Arab Emirates\n",
            "248 United Kingdom\n",
            "249 United States\n",
            "250 Uruguay\n",
            "251 Uzbekistan\n",
            "252 Vatican City\n",
            "253 Venezuela\n",
            "254 Vietnam\n",
            "255 Virgin Islands, U.S.\n",
            "256 United States Minor Outlying Islands\n",
            "257 Wallis and Futuna\n",
            "258 Western Sahara\n",
            "259 Yemen\n",
            "260 Zambia\n",
            "261 Zimbabwe\n",
            "262 Paracel Islands\n"
          ],
          "name": "stdout"
        }
      ]
    },
    {
      "metadata": {
        "id": "ciXnPH8s6MrF",
        "colab_type": "code",
        "colab": {
          "autoexec": {
            "startup": false,
            "wait_interval": 0
          },
          "output_extras": [
            {
              "item_id": 1
            }
          ],
          "base_uri": "https://localhost:8080/",
          "height": 119
        },
        "outputId": "53b49ea1-cc89-499b-b44b-a973dcd1e5c8",
        "executionInfo": {
          "status": "ok",
          "timestamp": 1512096838143,
          "user_tz": -540,
          "elapsed": 899,
          "user": {
            "displayName": "Tsutsumida Naru",
            "photoUrl": "https://lh3.googleusercontent.com/a/default-user=s128",
            "userId": "116183219300541669782"
          }
        }
      },
      "source": [
        "#get list of country name\n",
        "country_name = pd.Series(np.zeros(len(records)))\n",
        "                         \n",
        "for index, item in enumerate( record):\n",
        "        country_name[index] =  item[6]\n",
        "    \n",
        "print country_name.head()"
      ],
      "cell_type": "code",
      "execution_count": 143,
      "outputs": [
        {
          "output_type": "stream",
          "text": [
            "0             �land\n",
            "1       Afghanistan\n",
            "2           Albania\n",
            "3           Algeria\n",
            "4    American Samoa\n",
            "dtype: object\n"
          ],
          "name": "stdout"
        }
      ]
    },
    {
      "metadata": {
        "id": "edegHO5Q2Vu9",
        "colab_type": "code",
        "colab": {
          "autoexec": {
            "startup": false,
            "wait_interval": 0
          },
          "output_extras": [
            {
              "item_id": 1
            }
          ],
          "base_uri": "https://localhost:8080/",
          "height": 34
        },
        "outputId": "5ec56833-7e66-4c50-cdd8-0d0ebc6790e0",
        "executionInfo": {
          "status": "ok",
          "timestamp": 1512097433469,
          "user_tz": -540,
          "elapsed": 752,
          "user": {
            "displayName": "Tsutsumida Naru",
            "photoUrl": "https://lh3.googleusercontent.com/a/default-user=s128",
            "userId": "116183219300541669782"
          }
        }
      },
      "source": [
        "##pick up only Japan\n",
        "country_name_japan = country_name[country_name=='Japan']\n",
        "country_name_japan.index[0]"
      ],
      "cell_type": "code",
      "execution_count": 165,
      "outputs": [
        {
          "output_type": "execute_result",
          "data": {
            "text/plain": [
              "120"
            ]
          },
          "metadata": {
            "tags": []
          },
          "execution_count": 165
        }
      ]
    },
    {
      "metadata": {
        "id": "F8bKgONc11mb",
        "colab_type": "code",
        "colab": {
          "autoexec": {
            "startup": false,
            "wait_interval": 0
          }
        }
      },
      "source": [
        "shape_japan = sf.shape(country_name_japan.index[0])"
      ],
      "cell_type": "code",
      "execution_count": 0,
      "outputs": []
    },
    {
      "metadata": {
        "id": "mq4uDXryOMXr",
        "colab_type": "text"
      },
      "source": [
        "#Plotting"
      ],
      "cell_type": "markdown"
    },
    {
      "metadata": {
        "id": "ktNM5GJ9OPFP",
        "colab_type": "text"
      },
      "source": [
        "##Single entry mapping"
      ],
      "cell_type": "markdown"
    },
    {
      "metadata": {
        "id": "JisyThrM17Ug",
        "colab_type": "code",
        "colab": {
          "autoexec": {
            "startup": false,
            "wait_interval": 0
          },
          "output_extras": [
            {
              "item_id": 1
            },
            {
              "item_id": 2
            }
          ],
          "base_uri": "https://localhost:8080/",
          "height": 364
        },
        "outputId": "8a230381-58f4-4552-b205-a933719fb22d",
        "executionInfo": {
          "status": "ok",
          "timestamp": 1512098052410,
          "user_tz": -540,
          "elapsed": 731,
          "user": {
            "displayName": "Tsutsumida Naru",
            "photoUrl": "https://lh3.googleusercontent.com/a/default-user=s128",
            "userId": "116183219300541669782"
          }
        }
      },
      "source": [
        "##super noisy plotting \n",
        "##see alternative way below\n",
        "\n",
        "x_lon = np.zeros((len(shape_japan.points),1))\n",
        "y_lat = np.zeros((len(shape_japan.points),1))\n",
        "for ip in range(len(shape_japan.points)):\n",
        "    x_lon[ip] = shape_japan.points[ip][0]\n",
        "    y_lat[ip] = shape_japan.points[ip][1]\n",
        "    \n",
        "\n",
        "plt.plot(x_lon,y_lat)\n",
        "\n",
        "# use bbox (bounding box) to set plot limits\n",
        "#plt.xlim(shape_japan.bbox[0],shashape_japanpe_ex.bbox[2])\n",
        "#plt.ylim(shape_japan.bbox[1],shape_japan.bbox[3])\n"
      ],
      "cell_type": "code",
      "execution_count": 173,
      "outputs": [
        {
          "output_type": "execute_result",
          "data": {
            "text/plain": [
              "[<matplotlib.lines.Line2D at 0x7fa3b5808390>]"
            ]
          },
          "metadata": {
            "tags": []
          },
          "execution_count": 173
        },
        {
          "output_type": "display_data",
          "data": {
            "image/png": "[encoded data removed]",
            "text/plain": [
              "<matplotlib.figure.Figure at 0x7fa3c4320f90>"
            ]
          },
          "metadata": {
            "tags": []
          }
        }
      ]
    },
    {
      "metadata": {
        "id": "v6AkVOYIE44H",
        "colab_type": "code",
        "colab": {
          "autoexec": {
            "startup": false,
            "wait_interval": 0
          },
          "output_extras": [
            {
              "item_id": 1
            }
          ],
          "base_uri": "https://localhost:8080/",
          "height": 347
        },
        "outputId": "945c84f8-6cac-4508-ed6a-00d41cd47e4c",
        "executionInfo": {
          "status": "ok",
          "timestamp": 1512098578790,
          "user_tz": -540,
          "elapsed": 1094,
          "user": {
            "displayName": "Tsutsumida Naru",
            "photoUrl": "https://lh3.googleusercontent.com/a/default-user=s128",
            "userId": "116183219300541669782"
          }
        }
      },
      "source": [
        "##use descartes package to visualize polygon data nicely\n",
        "##see https://gis.stackexchange.com/questions/93136/how-to-plot-geo-data-using-matplotlib-python/93201#93201\n",
        "from descartes import PolygonPatch\n",
        "\n",
        "\n",
        "BLUE = '#6699cc'\n",
        "fig = plt.figure() \n",
        "ax = fig.gca()\n",
        "\n",
        "poly = shape_japan.__geo_interface__\n",
        "#or poly = sf.shape(120)\n",
        "ax.add_patch(PolygonPatch(poly, fc=BLUE, ec=BLUE, alpha=0.5, zorder=2 ))\n",
        "ax.axis('scaled')\n",
        "plt.show()"
      ],
      "cell_type": "code",
      "execution_count": 182,
      "outputs": [
        {
          "output_type": "display_data",
          "data": {
            "image/png": "[encoded data removed]",
            "text/plain": [
              "<matplotlib.figure.Figure at 0x7fa3c437c810>"
            ]
          },
          "metadata": {
            "tags": []
          }
        }
      ]
    },
    {
      "metadata": {
        "id": "BkFb3d2sG7eK",
        "colab_type": "text"
      },
      "source": [
        "##Multi entry mapping"
      ],
      "cell_type": "markdown"
    },
    {
      "metadata": {
        "id": "vwDbXtGm1tOS",
        "colab_type": "code",
        "colab": {
          "autoexec": {
            "startup": false,
            "wait_interval": 0
          },
          "output_extras": [
            {
              "item_id": 1
            }
          ],
          "base_uri": "https://localhost:8080/",
          "height": 225
        },
        "outputId": "3e9acc9d-41ef-418e-f0d9-e70779d27b5c",
        "executionInfo": {
          "status": "ok",
          "timestamp": 1512100189391,
          "user_tz": -540,
          "elapsed": 6145,
          "user": {
            "displayName": "Tsutsumida Naru",
            "photoUrl": "https://lh3.googleusercontent.com/a/default-user=s128",
            "userId": "116183219300541669782"
          }
        }
      },
      "source": [
        "BLUE = '#6699cc'\n",
        "fig = plt.figure() \n",
        "ax = fig.gca() \n",
        "\n",
        "for i in range(len(records)):\n",
        "  poly = sf.shape(i).__geo_interface__\n",
        "  #print poly\n",
        "  ax.add_patch(PolygonPatch(poly, fc=BLUE, ec=BLUE, alpha=0.5, zorder=2 ))\n",
        "ax.axis('scaled')\n",
        "plt.show()"
      ],
      "cell_type": "code",
      "execution_count": 213,
      "outputs": [
        {
          "output_type": "display_data",
          "data": {
            "image/png": "[encoded data removed]",
            "text/plain": [
              "<matplotlib.figure.Figure at 0x7fa3f7a15c90>"
            ]
          },
          "metadata": {
            "tags": []
          }
        }
      ]
    },
    {
      "metadata": {
        "id": "k7_BD6idNdLG",
        "colab_type": "text"
      },
      "source": [
        ""
      ],
      "cell_type": "markdown"
    }
  ]
}